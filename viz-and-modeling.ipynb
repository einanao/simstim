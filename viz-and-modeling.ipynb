{
 "cells": [
  {
   "cell_type": "code",
   "execution_count": null,
   "id": "18e5eea5",
   "metadata": {},
   "outputs": [],
   "source": [
    "%load_ext autoreload\n",
    "%autoreload 2\n",
    "%matplotlib inline"
   ]
  },
  {
   "cell_type": "code",
   "execution_count": null,
   "id": "4a128b66",
   "metadata": {},
   "outputs": [],
   "source": [
    "import os\n",
    "import json\n",
    "from copy import deepcopy\n",
    "\n",
    "from cthulhu import CthulhuShield\n",
    "from study import LOG_DIR\n",
    "\n",
    "import numpy as np\n",
    "\n",
    "from matplotlib import pyplot as plt\n",
    "import matplotlib as mpl"
   ]
  },
  {
   "cell_type": "code",
   "execution_count": null,
   "id": "8585bb9b",
   "metadata": {},
   "outputs": [],
   "source": [
    "log_dir = LOG_DIR\n",
    "logs = []\n",
    "for fname in os.listdir(log_dir):\n",
    "  if fname.endswith('.json'):\n",
    "    path = os.path.join(log_dir, fname)\n",
    "    with open(path, 'r') as f:\n",
    "      log = json.load(f)\n",
    "      logs.append(log)"
   ]
  },
  {
   "cell_type": "code",
   "execution_count": null,
   "id": "77f640a7",
   "metadata": {},
   "outputs": [],
   "source": [
    "def parse(log):\n",
    "  patterns = []\n",
    "  final_states = []\n",
    "  for event in log:\n",
    "    name = event['name']\n",
    "    if name == 'reset':\n",
    "      pattern = deepcopy(event['pattern'])\n",
    "      states = deepcopy(event['states'])\n",
    "    elif name == 'toggle':\n",
    "      idx = event['idx']\n",
    "      states[idx] = not states[idx]\n",
    "    elif name == 'submit':\n",
    "      patterns.append(deepcopy(pattern))\n",
    "      final_states.append(deepcopy(states))\n",
    "    else:\n",
    "      raise ValueError(name)\n",
    "  return patterns, final_states"
   ]
  },
  {
   "cell_type": "code",
   "execution_count": null,
   "id": "6a7cddaf",
   "metadata": {},
   "outputs": [],
   "source": [
    "X = []\n",
    "Y = []\n",
    "for log in logs:\n",
    "  patterns, final_states = parse(log)\n",
    "  X.extend(patterns)\n",
    "  Y.extend(final_states)\n",
    "X = np.array(X).astype(int)\n",
    "Y = np.array(Y).astype(int)"
   ]
  },
  {
   "cell_type": "code",
   "execution_count": null,
   "id": "35636a42",
   "metadata": {},
   "outputs": [],
   "source": [
    "X.shape, Y.shape, X, Y"
   ]
  },
  {
   "cell_type": "code",
   "execution_count": null,
   "id": "222aa20f",
   "metadata": {},
   "outputs": [],
   "source": []
  },
  {
   "cell_type": "code",
   "execution_count": null,
   "id": "b5ccc051",
   "metadata": {},
   "outputs": [],
   "source": [
    "shield = CthulhuShield()"
   ]
  },
  {
   "cell_type": "code",
   "execution_count": null,
   "id": "44ddf818",
   "metadata": {},
   "outputs": [],
   "source": [
    "shield.stim([16, 17])"
   ]
  },
  {
   "cell_type": "code",
   "execution_count": null,
   "id": "de20ab9f",
   "metadata": {},
   "outputs": [],
   "source": [
    "shield.stim([0, 1, 2, 3])"
   ]
  },
  {
   "cell_type": "code",
   "execution_count": null,
   "id": "31a8e26d",
   "metadata": {},
   "outputs": [],
   "source": [
    "shield.stim([12, 13, 14, 15])"
   ]
  },
  {
   "cell_type": "code",
   "execution_count": null,
   "id": "54ad1a48",
   "metadata": {},
   "outputs": [],
   "source": [
    "shield.stim([3, 7, 11, 15])"
   ]
  },
  {
   "cell_type": "code",
   "execution_count": null,
   "id": "a36a6d92",
   "metadata": {},
   "outputs": [],
   "source": [
    "shield.stim([0, 4, 8, 12])"
   ]
  },
  {
   "cell_type": "code",
   "execution_count": null,
   "id": "058380e5",
   "metadata": {},
   "outputs": [],
   "source": [
    "shield.stim(list(range(18)))"
   ]
  },
  {
   "cell_type": "code",
   "execution_count": null,
   "id": "b2f4edfa",
   "metadata": {},
   "outputs": [],
   "source": [
    "shield.stop()"
   ]
  },
  {
   "cell_type": "code",
   "execution_count": null,
   "id": "f095c80c",
   "metadata": {},
   "outputs": [],
   "source": []
  }
 ],
 "metadata": {
  "kernelspec": {
   "display_name": "Python 3 (ipykernel)",
   "language": "python",
   "name": "python3"
  },
  "language_info": {
   "codemirror_mode": {
    "name": "ipython",
    "version": 3
   },
   "file_extension": ".py",
   "mimetype": "text/x-python",
   "name": "python",
   "nbconvert_exporter": "python",
   "pygments_lexer": "ipython3",
   "version": "3.10.6"
  }
 },
 "nbformat": 4,
 "nbformat_minor": 5
}
