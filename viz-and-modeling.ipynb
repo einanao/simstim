{
 "cells": [
  {
   "cell_type": "code",
   "execution_count": null,
   "id": "18e5eea5",
   "metadata": {},
   "outputs": [],
   "source": [
    "%load_ext autoreload\n",
    "%autoreload 2\n",
    "%matplotlib inline"
   ]
  },
  {
   "cell_type": "code",
   "execution_count": null,
   "id": "4a128b66",
   "metadata": {},
   "outputs": [],
   "source": [
    "import os\n",
    "import json\n",
    "from copy import deepcopy\n",
    "\n",
    "from study import *\n",
    "\n",
    "from matplotlib import pyplot as plt\n",
    "import matplotlib as mpl"
   ]
  },
  {
   "cell_type": "code",
   "execution_count": null,
   "id": "8585bb9b",
   "metadata": {},
   "outputs": [],
   "source": [
    "logs = []\n",
    "for fname in os.listdir(LOG_DIR):\n",
    "  if fname.endswith('.json'):\n",
    "    path = os.path.join(LOG_DIR, fname)\n",
    "    with open(path, 'r') as f:\n",
    "      log = json.load(f)\n",
    "      logs.append(log)"
   ]
  },
  {
   "cell_type": "code",
   "execution_count": null,
   "id": "12751d91",
   "metadata": {},
   "outputs": [],
   "source": [
    "def parse(log):\n",
    "  patterns = []\n",
    "  final_states = []\n",
    "  for event in log:\n",
    "    if event['name'] == 'reset':\n",
    "      pattern = event['pattern']\n",
    "      states = event['states']\n",
    "    elif event['name'] == 'toggle':\n",
    "      states[event['idx']] = not states[event['idx']]\n",
    "    elif event['name'] == 'submit':\n",
    "      patterns.append(deepcopy(pattern))\n",
    "      final_states.append(deepcopy(states))\n",
    "    else:\n",
    "      raise ValueError(event['name'])\n",
    "  return patterns, final_states"
   ]
  },
  {
   "cell_type": "code",
   "execution_count": null,
   "id": "6a7cddaf",
   "metadata": {},
   "outputs": [],
   "source": [
    "X = []\n",
    "Y = []\n",
    "for log in logs:\n",
    "  patterns, final_states = parse(log)\n",
    "  X.extend(patterns)\n",
    "  Y.extend(final_states)\n",
    "X = np.array(X).astype(int)\n",
    "Y = np.array(Y).astype(int)"
   ]
  },
  {
   "cell_type": "code",
   "execution_count": null,
   "id": "35636a42",
   "metadata": {},
   "outputs": [],
   "source": [
    "X.shape, Y.shape, X, Y"
   ]
  },
  {
   "cell_type": "code",
   "execution_count": null,
   "id": "f095c80c",
   "metadata": {},
   "outputs": [],
   "source": []
  }
 ],
 "metadata": {
  "kernelspec": {
   "display_name": "Python 3 (ipykernel)",
   "language": "python",
   "name": "python3"
  },
  "language_info": {
   "codemirror_mode": {
    "name": "ipython",
    "version": 3
   },
   "file_extension": ".py",
   "mimetype": "text/x-python",
   "name": "python",
   "nbconvert_exporter": "python",
   "pygments_lexer": "ipython3",
   "version": "3.10.6"
  }
 },
 "nbformat": 4,
 "nbformat_minor": 5
}
