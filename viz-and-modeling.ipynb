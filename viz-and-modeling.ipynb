{
 "cells": [
  {
   "cell_type": "code",
   "execution_count": null,
   "id": "18e5eea5",
   "metadata": {},
   "outputs": [],
   "source": [
    "%load_ext autoreload\n",
    "%autoreload 2\n",
    "%matplotlib inline"
   ]
  },
  {
   "cell_type": "code",
   "execution_count": null,
   "id": "4a128b66",
   "metadata": {},
   "outputs": [],
   "source": [
    "import os\n",
    "import json\n",
    "from copy import deepcopy\n",
    "\n",
    "from cthulhu import CthulhuShield\n",
    "from study import LOG_DIR, CthulhuGrid\n",
    "\n",
    "import numpy as np\n",
    "\n",
    "from matplotlib import pyplot as plt\n",
    "import matplotlib as mpl"
   ]
  },
  {
   "cell_type": "code",
   "execution_count": null,
   "id": "e2a62564",
   "metadata": {},
   "outputs": [],
   "source": [
    "shield = CthulhuShield()"
   ]
  },
  {
   "cell_type": "code",
   "execution_count": null,
   "id": "03a62696",
   "metadata": {},
   "outputs": [],
   "source": [
    "shield.stim([16, 17])"
   ]
  },
  {
   "cell_type": "code",
   "execution_count": null,
   "id": "fdf176b0",
   "metadata": {},
   "outputs": [],
   "source": [
    "shield.stim([0, 1, 2, 3])"
   ]
  },
  {
   "cell_type": "code",
   "execution_count": null,
   "id": "a955d4e7",
   "metadata": {},
   "outputs": [],
   "source": [
    "shield.stim([12, 13, 14, 15])"
   ]
  },
  {
   "cell_type": "code",
   "execution_count": null,
   "id": "2724cbdd",
   "metadata": {},
   "outputs": [],
   "source": [
    "shield.stim([3, 7, 11, 15])"
   ]
  },
  {
   "cell_type": "code",
   "execution_count": null,
   "id": "770edae3",
   "metadata": {},
   "outputs": [],
   "source": [
    "shield.stim([0, 4, 8, 12])"
   ]
  },
  {
   "cell_type": "code",
   "execution_count": null,
   "id": "249db09f",
   "metadata": {},
   "outputs": [],
   "source": [
    "shield.stim(list(range(18)))"
   ]
  },
  {
   "cell_type": "code",
   "execution_count": null,
   "id": "6c69b86b",
   "metadata": {},
   "outputs": [],
   "source": [
    "shield.stop()"
   ]
  },
  {
   "cell_type": "code",
   "execution_count": null,
   "id": "8585bb9b",
   "metadata": {},
   "outputs": [],
   "source": [
    "log_dir = LOG_DIR\n",
    "logs = []\n",
    "for fname in os.listdir(log_dir):\n",
    "  if fname.endswith('.json'):\n",
    "    path = os.path.join(log_dir, fname)\n",
    "    with open(path, 'r') as f:\n",
    "      log = json.load(f)\n",
    "      log = sorted(log, key=lambda x: x['timestamp'])\n",
    "      logs.append(log)\n",
    "logs = sorted(logs, key=lambda x: x[0]['timestamp'])"
   ]
  },
  {
   "cell_type": "code",
   "execution_count": null,
   "id": "77f640a7",
   "metadata": {},
   "outputs": [],
   "source": [
    "def parse(log):\n",
    "  patterns = []\n",
    "  final_states = []\n",
    "  for event in log:\n",
    "    name = event['name']\n",
    "    if name == 'reset':\n",
    "      pattern = deepcopy(event['pattern'])\n",
    "      states = deepcopy(event['states'])\n",
    "    elif name == 'toggle':\n",
    "      idx = event['idx']\n",
    "      states[idx] = not states[idx]\n",
    "    elif name == 'submit':\n",
    "      patterns.append(deepcopy(pattern))\n",
    "      final_states.append(deepcopy(states))\n",
    "    else:\n",
    "      raise ValueError(name)\n",
    "  return patterns, final_states"
   ]
  },
  {
   "cell_type": "code",
   "execution_count": null,
   "id": "6a7cddaf",
   "metadata": {},
   "outputs": [],
   "source": [
    "X = []\n",
    "Y = []\n",
    "for log in logs:\n",
    "  patterns, final_states = parse(log)\n",
    "  X.extend(patterns)\n",
    "  Y.extend(final_states)\n",
    "X = np.array(X)\n",
    "Y = np.array(Y)"
   ]
  },
  {
   "cell_type": "code",
   "execution_count": null,
   "id": "35636a42",
   "metadata": {
    "scrolled": true
   },
   "outputs": [],
   "source": [
    "X.shape, Y.shape"
   ]
  },
  {
   "cell_type": "code",
   "execution_count": null,
   "id": "f950b91d",
   "metadata": {},
   "outputs": [],
   "source": [
    "X.mean(), Y.mean()"
   ]
  },
  {
   "cell_type": "code",
   "execution_count": null,
   "id": "0f1ae0f2",
   "metadata": {},
   "outputs": [],
   "source": [
    "accs = np.mean(X == Y, axis=1)\n",
    "np.mean(accs)"
   ]
  },
  {
   "cell_type": "code",
   "execution_count": null,
   "id": "222aa20f",
   "metadata": {},
   "outputs": [],
   "source": [
    "plt.xlabel('Number of Items Completed')\n",
    "plt.ylabel('Prediction Accuracy')\n",
    "plt.plot(accs, color='orange')\n",
    "plt.axhline(y=X.mean(), linestyle='--', label='Random (Baseline)', color='gray')\n",
    "plt.legend(loc='best')\n",
    "plt.show()"
   ]
  },
  {
   "cell_type": "code",
   "execution_count": null,
   "id": "44ddf818",
   "metadata": {},
   "outputs": [],
   "source": [
    "grid = CthulhuGrid(CthulhuShield(debug_mode=True), None)\n",
    "poses = grid.poses"
   ]
  },
  {
   "cell_type": "code",
   "execution_count": null,
   "id": "de20ab9f",
   "metadata": {},
   "outputs": [],
   "source": [
    "def c(x, y):\n",
    "  if x and not y:\n",
    "    return 'red'\n",
    "  elif not x and y:\n",
    "    return 'blue'\n",
    "  elif x and y:\n",
    "    return 'green'\n",
    "  else:\n",
    "    return 'gray'\n",
    "\n",
    "def plot(i):\n",
    "  plt.title(i)\n",
    "  colors = [c(x, y) for x, y in zip(X[i], Y[i])]\n",
    "  plt.scatter(poses[:, 0], -poses[:, 1], s=grid.radius*50, c=colors)\n",
    "  plt.axis('off')\n",
    "  plt.show()"
   ]
  },
  {
   "cell_type": "code",
   "execution_count": null,
   "id": "31a8e26d",
   "metadata": {
    "scrolled": true
   },
   "outputs": [],
   "source": [
    "for i in range(X.shape[0]):\n",
    "  plot(i)\n",
    "  print(''.join(['*'] * 60))"
   ]
  },
  {
   "cell_type": "code",
   "execution_count": null,
   "id": "f095c80c",
   "metadata": {},
   "outputs": [],
   "source": []
  }
 ],
 "metadata": {
  "kernelspec": {
   "display_name": "Python 3 (ipykernel)",
   "language": "python",
   "name": "python3"
  },
  "language_info": {
   "codemirror_mode": {
    "name": "ipython",
    "version": 3
   },
   "file_extension": ".py",
   "mimetype": "text/x-python",
   "name": "python",
   "nbconvert_exporter": "python",
   "pygments_lexer": "ipython3",
   "version": "3.10.6"
  }
 },
 "nbformat": 4,
 "nbformat_minor": 5
}
